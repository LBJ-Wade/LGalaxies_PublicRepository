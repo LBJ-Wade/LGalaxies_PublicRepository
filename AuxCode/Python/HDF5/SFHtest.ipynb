{
 "cells": [
  {
   "cell_type": "markdown",
   "metadata": {},
   "source": [
    "# Script to test reading in of SFHs and example usage"
   ]
  },
  {
   "cell_type": "code",
   "execution_count": null,
   "metadata": {},
   "outputs": [],
   "source": [
    "# Imports\n",
    "import astropy.constants as c\n",
    "import astropy.units as u\n",
    "import h5py\n",
    "import numpy as np\n",
    "import matplotlib\n",
    "import matplotlib.pyplot as plt\n",
    "%matplotlib inline\n",
    "matplotlib.rc('font',size=20)"
   ]
  },
  {
   "cell_type": "code",
   "execution_count": null,
   "metadata": {},
   "outputs": [],
   "source": [
    "# Parameters\n",
    "outputDir='../../../output/'\n",
    "filePrefix='SA_output_'\n",
    "filePostfix='.h5'\n",
    "snap='58'\n",
    "firstFile=5\n",
    "lastFile=5\n",
    "# Size of SFH array.  This can probably be read in HDF5 from the dtype\n",
    "nSFHbins=20\n",
    "# Plotting parameters\n",
    "xmin=1e12\n",
    "xmax=1e15\n",
    "ymin0=1e9\n",
    "ymax0=1e14\n",
    "ymin1=0.\n",
    "ymax1=0.2"
   ]
  },
  {
   "cell_type": "code",
   "execution_count": null,
   "metadata": {},
   "outputs": [],
   "source": [
    "# import template\n",
    "#sys.path.insert(0,idatadir)\n",
    "import sfh_template\n",
    "# I presume that the following offset is needed because the struct size is not a multiple of 8 bytes.\n",
    "itemsize_correction=4\n",
    "\n",
    "# Open data file for binary reading\n",
    "with open(outputDir+'SFH_Bins','rb') as f:\n",
    "    Nbin = np.fromfile(f,np.int32,1)[0]\n",
    "    # Position file pointer at end of header\n",
    "    f.seek(sfh_template.sfh_struct_dtype.itemsize+itemsize_correction,0)\n",
    "    # Create record array to hold data and read it in\n",
    "    #SFHbins=np.array(Nbin,dtype=sfh_struct_dtype)\n",
    "    SFHbins=np.fromfile(f,sfh_template.sfh_struct_dtype,Nbin)\n",
    "print(SFHbins.dtype)\n",
    "print(SFHbins[np.where(SFHbins['Snapnum']==int(snap))])\n",
    "nSFHbins_used=SFHbins[np.where(SFHbins['Snapnum']==int(snap))]['Bin'][-1]\n",
    "print(nSFHbins_used)\n",
    "dt=SFHbins[np.where(SFHbins['Snapnum']==int(snap))]['dt']\n",
    "print('dt=',dt)\n",
    "LookbackTime=SFHbins[np.where(SFHbins['Snapnum']==int(snap))]['LookbackTime']\n",
    "print('LookbackTime=',LookbackTime)"
   ]
  },
  {
   "cell_type": "code",
   "execution_count": null,
   "metadata": {},
   "outputs": [],
   "source": [
    "# First determine the size of the arrays that we need to hold the data\n",
    "nGal=0\n",
    "for iFile in range(firstFile,lastFile+1):\n",
    "    # The following line closes the file at the end of the loop\n",
    "    with h5py.File(outputDir+filePrefix+'%i'%iFile+filePostfix,'r') as f:\n",
    "        nGal+=len(f[snap])\n",
    "print('nGal=',nGal)\n",
    "\n",
    "# Declare numpy arrays to hold the data\n",
    "Type=np.empty(nGal,dtype=np.int32)\n",
    "DiskMass=np.empty(nGal)\n",
    "sfh_DiskMass=np.empty([nGal,nSFHbins])\n",
    "\n",
    "# Now read in the data\n",
    "iGal=0\n",
    "for iFile in range(firstFile,lastFile+1):\n",
    "    # The following line closes the file at the end of the loop\n",
    "    with h5py.File(outputDir+filePrefix+'%i'%iFile+filePostfix,'r') as f:\n",
    "        nGalFile=len(f[snap])\n",
    "        Type[iGal:iGal+nGalFile]=f[snap]['Type']\n",
    "        DiskMass[iGal:iGal+nGalFile]=f[snap]['DiskMass']\n",
    "        sfh_DiskMass[iGal:iGal+nGalFile,:]=f[snap]['sfh_DiskMass']\n",
    "        iGal+=nGalFile\n",
    "        \n",
    "# Select galaxies in mass range 3e9-1e10 Msun/h and convert to Msun/h\n",
    "index=np.where((DiskMass>0.3) & (DiskMass<=1.0))[0]\n",
    "Type=Type[index]\n",
    "DiskMass=DiskMass[index]*1e10\n",
    "sfh_DiskMass=sfh_DiskMass[index,:nSFHbins_used+1]*1e10"
   ]
  },
  {
   "cell_type": "code",
   "execution_count": null,
   "metadata": {},
   "outputs": [],
   "source": [
    "\n",
    "# Sanity check on mass\n",
    "# Note that SFH stores initial mass and DiskMass stores remaining mass for an evolved stellar population\n",
    "plt.figure(figsize=[12,8])\n",
    "plt.semilogx(DiskMass,np.sum(sfh_DiskMass,1)/DiskMass,'.')\n",
    "plt.xlabel(r'DiskMass/$h^{-1}$M$_\\odot$')\n",
    "plt.ylabel(r'np.sum(sfh_DiskMass,1)/DiskMass')\n",
    "plt.savefig('figs/sfh_massCheck.png')\n",
    "plt.show()\n",
    "\n",
    "# Average star formation history over all galaxies\n",
    "sfh_DiskMass_mean=np.mean(sfh_DiskMass,0)\n",
    "# Average star formation rate in each bin\n",
    "sfr_mean=sfh_DiskMass_mean/dt\n",
    "# Plot star formation rate as a function of Lookback time\n",
    "plt.figure(figsize=[12,8])\n",
    "plt.semilogx(LookbackTime,sfr_mean,'o')\n",
    "plt.semilogx(LookbackTime,sfr_mean,'-')\n",
    "plt.xlabel(r'Lookback time / yr')\n",
    "plt.ylabel(r'Star formation rate / (Msun/yr)')\n",
    "plt.savefig('figs/sfh_sfr.png')\n",
    "plt.show()\n",
    "\n"
   ]
  }
 ],
 "metadata": {
  "language_info": {
   "name": "python",
   "pygments_lexer": "ipython3"
  }
 },
 "nbformat": 4,
 "nbformat_minor": 4
}
