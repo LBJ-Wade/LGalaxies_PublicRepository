{
 "cells": [
  {
   "cell_type": "markdown",
   "metadata": {},
   "source": [
    "# Quasar luminosity function"
   ]
  },
  {
   "cell_type": "code",
   "execution_count": 1,
   "metadata": {},
   "outputs": [
    {
     "name": "stderr",
     "output_type": "stream",
     "text": [
      "/anaconda3/lib/python3.6/site-packages/h5py/__init__.py:36: FutureWarning: Conversion of the second argument of issubdtype from `float` to `np.floating` is deprecated. In future, it will be treated as `np.float64 == np.dtype(float).type`.\n",
      "  from ._conv import register_converters as _register_converters\n"
     ]
    }
   ],
   "source": [
    "# Imports\n",
    "import astropy.constants as c\n",
    "import astropy.units as u\n",
    "import h5py\n",
    "import numpy as np\n",
    "import matplotlib\n",
    "import matplotlib.pyplot as plt\n",
    "from astropy.table import Table\n",
    "%matplotlib inline\n",
    "matplotlib.rc('font',size=20)"
   ]
  },
  {
   "cell_type": "code",
   "execution_count": 7,
   "metadata": {},
   "outputs": [],
   "source": [
    "# Parameters\n",
    "outputDir='../../../output/cooling_old/'\n",
    "#outputDir='../../../output/Hen15_betaprof_fixinfall/'\n",
    "obsDir='../../../../Obsdata/'\n",
    "filePrefix='SA_output_'\n",
    "filePostfix='.h5'\n",
    "snap='58'\n",
    "firstFile=40\n",
    "lastFile=40\n",
    "maxFile=512\n",
    "# Bins for hostogram and plotting\n",
    "binperdex=5\n",
    "xrange=np.array([9,13])\n",
    "nbin=(xrange[1]-xrange[0])*binperdex\n",
    "# Simulation parameters (read from file!)\n",
    "hubble=0.673\n",
    "boxside=480.28  # Units Mpc/h "
   ]
  },
  {
   "cell_type": "code",
   "execution_count": 8,
   "metadata": {},
   "outputs": [
    {
     "name": "stdout",
     "output_type": "stream",
     "text": [
      "nGal= 14629\n"
     ]
    }
   ],
   "source": [
    "# First determine the size of the arrays that we need to hold the data\n",
    "nGal=0\n",
    "for iFile in range(firstFile,lastFile+1):\n",
    "    # The following line closes the file at the end of the loop\n",
    "    with h5py.File(outputDir+filePrefix+'%i'%iFile+filePostfix,'r') as f:\n",
    "        nGal+=len(f[snap])\n",
    "print('nGal=',nGal)\n",
    "\n",
    "# Declare numpy arrays to hold the data\n",
    "Type=np.empty(nGal)\n",
    "StellarMass=np.empty(nGal)\n",
    "QAR=np.empty(nGal)\n",
    "RAR=np.empty(nGal)\n",
    "\n",
    "# Now read in the data\n",
    "iGal=0\n",
    "for iFile in range(firstFile,lastFile+1):\n",
    "    # The following line closes the file at the end of the loop\n",
    "    with h5py.File(outputDir+filePrefix+'%i'%iFile+filePostfix,'r') as f:\n",
    "        nGalFile=len(f[snap])\n",
    "        Type[iGal:iGal+nGalFile]=f[snap]['Type']\n",
    "        StellarMass[iGal:iGal+nGalFile]=f[snap]['StellarMass']\n",
    "        QAR[iGal:iGal+nGalFile]=f[snap]['QuasarAccretionRate']\n",
    "        RAR[iGal:iGal+nGalFile]=f[snap]['RadioAccretionRate']\n",
    "        iGal+=nGalFile"
   ]
  },
  {
   "cell_type": "code",
   "execution_count": 9,
   "metadata": {},
   "outputs": [
    {
     "name": "stderr",
     "output_type": "stream",
     "text": [
      "/anaconda3/lib/python3.6/site-packages/ipykernel_launcher.py:4: RuntimeWarning: divide by zero encountered in log10\n",
      "  after removing the cwd from sys.path.\n"
     ]
    },
    {
     "data": {
      "image/png": "[encoded data removed]",
      "text/plain": [
       "<matplotlib.figure.Figure at 0x1511e56320>"
      ]
     },
     "metadata": {},
     "output_type": "display_data"
    }
   ],
   "source": [
    "qlf=0.1*2e30*(3e8)**2/(3.16e7*4e26)*(QAR+RAR)\n",
    "\n",
    "# Put into bins and normalise to number per unit volume (Mpc/h) per dex\n",
    "nobj,bins,junk=plt.hist(np.log10(qlf), bins=nbin, range=xrange, log=True)\n",
    "y=nobj*maxFile/((lastFile-firstFile+1)*boxside**3)*binperdex\n",
    "\n",
    "# Plot at centre of bins\n",
    "x=0.5*(bins[:-1]+bins[1:])\n"
   ]
  },
  {
   "cell_type": "code",
   "execution_count": 12,
   "metadata": {},
   "outputs": [
    {
     "data": {
      "image/png": "[encoded data removed]",
      "text/plain": [
       "<matplotlib.figure.Figure at 0x1512237e80>"
      ]
     },
     "metadata": {},
     "output_type": "display_data"
    }
   ],
   "source": [
    "# Plot SMF of data\n",
    "plt.figure(0,figsize=(12,9))\n",
    "plt.semilogy(x,y,'-r',label='Quasar luminosity function')\n",
    "plt.axis([8.5,13.5,1e-6,1e-2])\n",
    "plt.xlabel(r'$\\log_{10}(L_\\mathrm{AGN}/L_\\odot)$')\n",
    "plt.ylabel(r'$\\log_{10}(N/(\\mathrm{dex}\\ (h^{-1}\\mathrm{Mpc})^3)$')\n",
    "plt.grid(True)\n",
    "\n",
    "plt.legend()\n",
    "plt.savefig('figs/QLF_'+outputDir.split('/')[-2]+'.png')"
   ]
  },
  {
   "cell_type": "code",
   "execution_count": null,
   "metadata": {},
   "outputs": [],
   "source": []
  }
 ],
 "metadata": {
  "kernelspec": {
   "display_name": "Python 3",
   "language": "python",
   "name": "python3"
  },
  "language_info": {
   "codemirror_mode": {
    "name": "ipython",
    "version": 3
   },
   "file_extension": ".py",
   "mimetype": "text/x-python",
   "name": "python",
   "nbconvert_exporter": "python",
   "pygments_lexer": "ipython3",
   "version": "3.6.4"
  }
 },
 "nbformat": 4,
 "nbformat_minor": 1
}
